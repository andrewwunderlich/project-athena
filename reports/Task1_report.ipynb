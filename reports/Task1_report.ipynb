{
 "cells": [
  {
   "cell_type": "markdown",
   "metadata": {},
   "source": [
    "# Team doubleE -- Task 1 Report\n",
    "Team Members: Andrew Wunderlich, Jay Desai, Miles Leonard-Albert\n",
    "CSCE585 - Machine Learning Systems, Fall 2020\n",
    "Adversarial ML Project\n",
    "\n",
    "This report provides insight and analysis into Task 1, in which we create adversarial examples using the Athena framework."
   ]
  },
  {
   "cell_type": "markdown",
   "metadata": {},
   "source": [
    "## Import packages and define project directory\n",
    "NOTE: Users running this notebook should set the value of 'projectdir' to the project path on their machine."
   ]
  },
  {
   "cell_type": "code",
   "execution_count": null,
   "metadata": {},
   "outputs": [],
   "source": [
    "import numpy as np\n",
    "from matplotlib import pyplot as plt\n",
    "import os"
   ]
  },
  {
   "cell_type": "code",
   "execution_count": null,
   "metadata": {},
   "outputs": [],
   "source": [
    "projectdir = 'C:/Users/andre/CSCE585_local/project-athena'\n",
    "if os.path.isdir(projectdir):\n",
    "    print('Selected project directory: '+projectdir)\n",
    "else:\n",
    "    raise NotADirectoryError('The selected project directory does not exist. '+\n",
    "                             'Check the value of \"projectdir\" and ensure that it contains the correct project path.')"
   ]
  },
  {
   "cell_type": "markdown",
   "metadata": {},
   "source": [
    "## Plot a few examples for each attack\n",
    "This task includes 15 attacks, featuring 3 attack types, each at 5 different intensities.\n",
    "Below we plot a few examples of images from the MNIST dataset modified using\n",
    "- Spatial transformation, w/ max roation:\n",
    "    - 10 degrees\n",
    "    - 20 degrees\n",
    "    - 30 degrees\n",
    "    - 40 degrees\n",
    "    - 50 degrees\n",
    "- PGD, with epsilon:\n",
    "    - 0.03\n",
    "    - 0.07\n",
    "    - 0.10\n",
    "    - 0.20\n",
    "    - 0.30\n",
    "- DeepFool, with epsilon:\n",
    "    - 0.03\n",
    "    - 0.07\n",
    "    - 0.10\n",
    "    - 0.20\n",
    "    - 0.30"
   ]
  },
  {
   "cell_type": "code",
   "execution_count": null,
   "metadata": {},
   "outputs": [],
   "source": [
    "AE_file_list = os.listdir(projectdir+'/saved_attacks') #create list of presaved attack files\n",
    "\n",
    "if 'dataTable.npy' in AE_file_list:\n",
    "    AE_file_list.remove('dataTable.npy')\n",
    "\n",
    "for filename in AE_file_list:\n",
    "    ae = np.load(projectdir+'/saved_attacks/'+filename)\n",
    "    print(filename)\n",
    "    \n",
    "    num_plotting = min(ae.shape[0], 3)\n",
    "    for i in range(num_plotting):\n",
    "        img = ae[i].reshape((28, 28))\n",
    "        plt.imshow(img, cmap='gray')\n",
    "        #title = '{}: {}->{}'.format(attack_configs.get(key).get(\"description\"), labels[i], predictions[i])\n",
    "        #plt.title(title)\n",
    "        plt.show()\n",
    "        plt.close()"
   ]
  },
  {
   "cell_type": "markdown",
   "metadata": {},
   "source": [
    "## Analyze Error Rate By Attack Type for Each Defense\n",
    "This work uses the following defense models:\n",
    "1. UM: The undefended model (a single CNN with no special defenses)\n",
    "2. MV: \"Vanilla Athena\" with the Majority Voting ensemble strategy\n",
    "3. AVEP: \"Vanilla Athena\" with the Average Probability ensemble strategy\n",
    "4. PGD-ADT: PGD Adversarial Training, a state-of-the-art Adversarial Defense\n",
    "\n",
    "\n",
    "For each defense, we ran all 150,000 perturbed images (15 attacks * 10,000 test images in MNIST) and obtained predictions for each.  We stored the 10,000 correct values alongside the 150,000 predicted values for each defense in a single datatable, from which we can calculate error rates and "
   ]
  },
  {
   "cell_type": "code",
   "execution_count": null,
   "metadata": {},
   "outputs": [],
   "source": [
    "dataTable_um = np.load(projectdir+'/saved_attacks/data/dataTable_um.npy')\n",
    "\n",
    "truelabels = dataTable_um[:,0]\n",
    "predictedlabels_um = dataTable_um[:,1:]\n",
    "\n",
    "num_images = predictedlabels.shape[0]\n",
    "num_attacks = predictedlabels.shape[1]"
   ]
  },
  {
   "cell_type": "code",
   "execution_count": null,
   "metadata": {},
   "outputs": [],
   "source": [
    "errortable = -np.ones(predictedlabels.shape) #initialize to -1's\n",
    "all_err_rates = -np.ones([1,predictedlabels.shape[1]]) #initialize to -1's\n",
    "\n",
    "for col_index in range(predictedlabels.shape[1]): #step through columns (each column is data for one attack)\n",
    "    errortable[:,col_index] = np.logical_not(np.equal(predictedlabels[:,col_index],truelabels))*1.0 #create binary matrix of errors\n",
    "    all_err_rates[0,col_index] = np.average(errortable[:,col_index]) #compute average error rate for each attack\n"
   ]
  },
  {
   "cell_type": "code",
   "execution_count": null,
   "metadata": {},
   "outputs": [],
   "source": []
  },
  {
   "cell_type": "code",
   "execution_count": null,
   "metadata": {},
   "outputs": [],
   "source": []
  }
 ],
 "metadata": {
  "kernelspec": {
   "display_name": "Python 3",
   "language": "python",
   "name": "python3"
  },
  "language_info": {
   "codemirror_mode": {
    "name": "ipython",
    "version": 3
   },
   "file_extension": ".py",
   "mimetype": "text/x-python",
   "name": "python",
   "nbconvert_exporter": "python",
   "pygments_lexer": "ipython3",
   "version": "3.7.9"
  }
 },
 "nbformat": 4,
 "nbformat_minor": 4
}
