{
 "cells": [
  {
   "cell_type": "code",
   "execution_count": 1,
   "metadata": {},
   "outputs": [
    {
     "name": "stderr",
     "output_type": "stream",
     "text": [
      "Using TensorFlow backend.\n",
      "/home/meng/anaconda3/envs/pytorch/lib/python3.7/site-packages/tensorflow/python/framework/dtypes.py:526: FutureWarning: Passing (type, 1) or '1type' as a synonym of type is deprecated; in a future version of numpy, it will be understood as (type, (1,)) / '(1,)type'.\n",
      "  _np_qint8 = np.dtype([(\"qint8\", np.int8, 1)])\n",
      "/home/meng/anaconda3/envs/pytorch/lib/python3.7/site-packages/tensorflow/python/framework/dtypes.py:527: FutureWarning: Passing (type, 1) or '1type' as a synonym of type is deprecated; in a future version of numpy, it will be understood as (type, (1,)) / '(1,)type'.\n",
      "  _np_quint8 = np.dtype([(\"quint8\", np.uint8, 1)])\n",
      "/home/meng/anaconda3/envs/pytorch/lib/python3.7/site-packages/tensorflow/python/framework/dtypes.py:528: FutureWarning: Passing (type, 1) or '1type' as a synonym of type is deprecated; in a future version of numpy, it will be understood as (type, (1,)) / '(1,)type'.\n",
      "  _np_qint16 = np.dtype([(\"qint16\", np.int16, 1)])\n",
      "/home/meng/anaconda3/envs/pytorch/lib/python3.7/site-packages/tensorflow/python/framework/dtypes.py:529: FutureWarning: Passing (type, 1) or '1type' as a synonym of type is deprecated; in a future version of numpy, it will be understood as (type, (1,)) / '(1,)type'.\n",
      "  _np_quint16 = np.dtype([(\"quint16\", np.uint16, 1)])\n",
      "/home/meng/anaconda3/envs/pytorch/lib/python3.7/site-packages/tensorflow/python/framework/dtypes.py:530: FutureWarning: Passing (type, 1) or '1type' as a synonym of type is deprecated; in a future version of numpy, it will be understood as (type, (1,)) / '(1,)type'.\n",
      "  _np_qint32 = np.dtype([(\"qint32\", np.int32, 1)])\n",
      "/home/meng/anaconda3/envs/pytorch/lib/python3.7/site-packages/tensorflow/python/framework/dtypes.py:535: FutureWarning: Passing (type, 1) or '1type' as a synonym of type is deprecated; in a future version of numpy, it will be understood as (type, (1,)) / '(1,)type'.\n",
      "  np_resource = np.dtype([(\"resource\", np.ubyte, 1)])\n"
     ]
    }
   ],
   "source": [
    "import os\n",
    "import sys\n",
    "module_path = os.path.abspath(os.path.join('../../src'))\n",
    "if module_path not in sys.path:\n",
    "    sys.path.append(module_path)\n",
    "    \n",
    "import numpy as np\n",
    "import os\n",
    "from matplotlib import pyplot as plt\n",
    "\n",
    "from utils.file import load_from_json\n",
    "from utils.model import load_lenet, load_pool\n",
    "from attacks.attack import generate\n",
    "from utils.metrics import error_rate\n",
    "from models.athena import Ensemble, ENSEMBLE_STRATEGY\n"
   ]
  },
  {
   "cell_type": "code",
   "execution_count": 2,
   "metadata": {},
   "outputs": [],
   "source": [
    "# global variables\n",
    "CONFIG_ROOT = \"../../src/configs/\""
   ]
  },
  {
   "cell_type": "markdown",
   "metadata": {},
   "source": [
    "# Generate adversarial examples\n",
    "\n",
    "We implement the optimization-based attacks, a naive approach by averaging the losses and an approach that extends EOT for ensemble (``Equation (7)`` in the ``ATHENA`` paper).\n",
    "\n",
    "## Averaging the losses\n",
    "Extend ``Equation (1)`` for ensemble by averaging the losses of individual WDs in the ensemble.\n",
    "\n",
    "\\begin{equation*}\n",
    "max_{\\delta}\\frac{1}{K}\\Sigma_{i=1}^{K}\\left(\\mathcal{L}\\left(f_i, \\textbf{x}+\\delta, y_{true}\\right)\\right).\n",
    "\\end{equation*}\n",
    "\n",
    "where $f_i$ is a weak defense in the targeted ensemble.\n",
    "\n",
    "----\n",
    "### How to configure the attack\n",
    "Same as in ``Task 1``.\n",
    "\n",
    "----\n",
    "* python example: `tutorials/craft_adversarial_examples.py`\n",
    "* main api: `attacks.attack.generate`\n",
    "* check tunable parameters for each attack in file `attacks/attack.py`."
   ]
  },
  {
   "cell_type": "code",
   "execution_count": 3,
   "metadata": {},
   "outputs": [],
   "source": [
    "# copied from tutorials/craft_adversarial_examples.py\n",
    "def generate_ae(model, data, labels, attack_configs,\n",
    "                eot=False,\n",
    "                save=False, output_dir=None):\n",
    "    \"\"\"\n",
    "    Generate adversarial examples\n",
    "    :param model: WeakDefense. The targeted model.\n",
    "    :param data: array. The benign samples to generate adversarial for.\n",
    "    :param labels: array or list. The true labels.\n",
    "    :param attack_configs: dictionary. Attacks and corresponding settings.\n",
    "    :param save: boolean. True, if save the adversarial examples.\n",
    "    :param output_dir: str or path. Location to save the adversarial examples.\n",
    "        It cannot be None when save is True.\n",
    "    :return:\n",
    "    \"\"\"\n",
    "    img_rows, img_cols = data.shape[1], data.shape[2]\n",
    "    num_attacks = attack_configs.get(\"num_attacks\")\n",
    "    data_loader = (data, labels)\n",
    "\n",
    "    if len(labels.shape) > 1:\n",
    "        labels = np.asarray([np.argmax(p) for p in labels])\n",
    "\n",
    "    # generate attacks one by one\n",
    "    for id in range(num_attacks):\n",
    "        key = \"configs{}\".format(id)\n",
    "        attack_args = attack_configs.get(key)\n",
    "        \n",
    "        attack_args[\"eot\"] = eot\n",
    "        data_adv = generate(model=model,\n",
    "                            data_loader=data_loader,\n",
    "                            attack_args=attack_args\n",
    "                            )\n",
    "        # predict the adversarial examples\n",
    "        predictions = model.predict(data_adv)\n",
    "        predictions = np.asarray([np.argmax(p) for p in predictions])\n",
    "\n",
    "        err = error_rate(y_pred=predictions, y_true=labels)\n",
    "        print(\">>> error rate:\", err)\n",
    "\n",
    "        # plotting some examples\n",
    "        num_plotting = min(data.shape[0], 2)\n",
    "        for i in range(num_plotting):\n",
    "            img = data_adv[i].reshape((img_rows, img_cols))\n",
    "            plt.imshow(img, cmap='gray')\n",
    "            title = '{}(EOT:{}): {}->{}'.format(attack_configs.get(key).get(\"description\"),\n",
    "                                                \"ON\" if eot else \"OFF\",\n",
    "                                                labels[i],\n",
    "                                                predictions[i]\n",
    "                                                )\n",
    "            plt.title(title)\n",
    "            plt.show()\n",
    "            plt.close()\n",
    "\n",
    "        # save the adversarial example\n",
    "        if save:\n",
    "            if output_dir is None:\n",
    "                raise ValueError(\"Cannot save images to a none path.\")\n",
    "            # save with a random name\n",
    "            file = os.path.join(output_dir, \"{}.npy\".format(time.monotonic()))\n",
    "            print(\"Save the adversarial examples to file [{}].\".format(file))\n",
    "            np.save(file, data_adv)\n"
   ]
  },
  {
   "cell_type": "code",
   "execution_count": 4,
   "metadata": {},
   "outputs": [
    {
     "name": "stdout",
     "output_type": "stream",
     "text": [
      ">>> Loading model [../../models/cnn/model-mnist-cnn-shift_bottom_left.h5]...\n",
      "WARNING:tensorflow:From /home/meng/anaconda3/envs/pytorch/lib/python3.7/site-packages/tensorflow/python/framework/op_def_library.py:263: colocate_with (from tensorflow.python.framework.ops) is deprecated and will be removed in a future version.\n",
      "Instructions for updating:\n",
      "Colocations handled automatically by placer.\n",
      "WARNING:tensorflow:From /home/meng/anaconda3/envs/pytorch/lib/python3.7/site-packages/keras/backend/tensorflow_backend.py:3445: calling dropout (from tensorflow.python.ops.nn_ops) with keep_prob is deprecated and will be removed in a future version.\n",
      "Instructions for updating:\n",
      "Please use `rate` instead of `keep_prob`. Rate should be set to `rate = 1 - keep_prob`.\n",
      "WARNING:tensorflow:From /home/meng/anaconda3/envs/pytorch/lib/python3.7/site-packages/tensorflow/python/ops/math_ops.py:3066: to_int32 (from tensorflow.python.ops.math_ops) is deprecated and will be removed in a future version.\n",
      "Instructions for updating:\n",
      "Use tf.cast instead.\n",
      ">>> Loading model [../../models/cnn/model-mnist-cnn-affine_both_stretch.h5]...\n",
      ">>> Loading model [../../models/cnn/model-mnist-cnn-cartoon_mean_type3.h5]...\n",
      ">>> Loaded 3 models.\n",
      ">>> Generating FGSM_eps0.2(EOT:OFF) examples.\n",
      ">>> error rate: 0.0\n"
     ]
    },
    {
     "data": {
      "image/png": "[encoded data removed]",
      "text/plain": [
       "<Figure size 432x288 with 1 Axes>"
      ]
     },
     "metadata": {
      "needs_background": "light"
     },
     "output_type": "display_data"
    },
    {
     "data": {
      "image/png": "[encoded data removed]",
      "text/plain": [
       "<Figure size 432x288 with 1 Axes>"
      ]
     },
     "metadata": {
      "needs_background": "light"
     },
     "output_type": "display_data"
    },
    {
     "name": "stdout",
     "output_type": "stream",
     "text": [
      ">>> Generating PGD_eps0.3(EOT:OFF) examples.\n",
      ">>> error rate: 0.0\n"
     ]
    },
    {
     "data": {
      "image/png": "[encoded data removed]",
      "text/plain": [
       "<Figure size 432x288 with 1 Axes>"
      ]
     },
     "metadata": {
      "needs_background": "light"
     },
     "output_type": "display_data"
    },
    {
     "data": {
      "image/png": "[encoded data removed]",
      "text/plain": [
       "<Figure size 432x288 with 1 Axes>"
      ]
     },
     "metadata": {
      "needs_background": "light"
     },
     "output_type": "display_data"
    }
   ],
   "source": [
    "# loading experiment configurations\n",
    "trans_configs = load_from_json(CONFIG_ROOT + \"demo/athena-mnist.json\")\n",
    "model_configs = load_from_json(CONFIG_ROOT + \"demo/model-mnist.json\")\n",
    "data_configs = load_from_json(CONFIG_ROOT + \"demo/data-mnist.json\")\n",
    "attack_configs = load_from_json(CONFIG_ROOT + \"demo/attack-zk-mnist.json\")\n",
    "\n",
    "# In the context of the white-box threat model,\n",
    "# we use the ensemble as adversary's target model.\n",
    "# load weak defenses (in this example, load a tiny pool of 3 weak defenses)\n",
    "pool, _ = load_pool(trans_configs=trans_configs,\n",
    "                    model_configs=model_configs,\n",
    "                    active_list=True,\n",
    "                    wrap=True)\n",
    "# create an AVEP ensemble from the WD pool\n",
    "wds = list(pool.values())\n",
    "target = Ensemble(classifiers=wds, strategy=ENSEMBLE_STRATEGY.AVEP.value)\n",
    "\n",
    "# load the benign samples\n",
    "data_file = os.path.join(data_configs.get('dir'), data_configs.get('bs_file'))\n",
    "data_bs = np.load(data_file)\n",
    "# load the corresponding true labels\n",
    "label_file = os.path.join(data_configs.get('dir'), data_configs.get('label_file'))\n",
    "labels = np.load(label_file)\n",
    "\n",
    "# generate AEs\n",
    "# in this example, we generate AEs for 5 benign samples\n",
    "data_bs = data_bs[:5]\n",
    "labels = labels[:5]\n",
    "\n",
    "# Normal approach\n",
    "# Compute the loss w.r.t. a single input\n",
    "# For an ensemble target, averaging the losses of WDs'.\n",
    "# let save=True and specify an output folder to save the generated AEs\n",
    "generate_ae(\n",
    "    model=target, \n",
    "    data=data_bs, \n",
    "    labels=labels, \n",
    "    attack_configs=attack_configs\n",
    ")"
   ]
  },
  {
   "cell_type": "markdown",
   "metadata": {},
   "source": [
    "## EOT attack\n",
    "* paper: [Synthesizing Robust Adversarial Examples](https://arxiv.org/pdf/1707.07397.pdf)\n",
    "* code GitHub repo: [EOT](https://github.com/prabhant/synthesizing-robust-adversarial-examples)\n",
    "* ATHENA paper: [ATHENA: A Framework based on Diverse Weak Defenses for Building Adversarial Defense](https://arxiv.org/abs/2001.00308)\n",
    "\n",
    "We extend ``EOT`` for ensemble in the ``ATHENA`` paper (``Equation (7)``). Currently, we support ``FGSM`` and ``PGD`` as the adversarial optimizer. You will need to provide the configuration for the chosen distribution.\n",
    "\n",
    "----\n",
    "### How to configure the distribution\n",
    "In ``attack-zk-mnist.json``, add a key-value pair: key --- ``\"distribution\"``; value --- dictionary. configuration for the distribution.\n",
    "\n",
    "e.g.,\n",
    "```json\n",
    "\"configs1\": {\n",
    "    \"attack\": \"pgd\",\n",
    "    \"description\": \"PGD_eps0.3\",\n",
    "    \"eps\": 0.3,\n",
    "    \"distribution\": {\n",
    "      \"num_samples\": 500,\n",
    "      \"transformation\": \"translation\",\n",
    "      \"min_offset\": -0.2,\n",
    "      \"max_offset\": 0.2\n",
    "    }\n",
    "}\n",
    "\n",
    "```\n",
    "where ``num_samples`` is the number of random sampled transformations from the chosen distribution. For detailed explanation, please refer to the ``EOT`` and ``ATHENA`` paper.\n",
    "\n",
    "Tune the factors to generate AEs variants with various effectiveness:\n",
    "* parameters of the selected attack method (e.g., ``eps``, ``eps_step``, ``max_iter``, and the like, for ``PGD``).\n",
    "* distribution settings: ``num_samples``, ``transformation`` and corresponding settings.\n",
    "\n",
    "----\n",
    "* python example: `tutorials/craft_adversarial_examples.py`.\n",
    "* main api: `attacks.attack.generate`.\n",
    "* check tunable parameters for each attack in file `attacks/attack.py`.\n",
    "* check tunable parameters for distributions in file `attacks/distribution.py`."
   ]
  },
  {
   "cell_type": "code",
   "execution_count": 5,
   "metadata": {},
   "outputs": [
    {
     "name": "stdout",
     "output_type": "stream",
     "text": [
      ">>> Loading model [../../models/cnn/model-mnist-cnn-shift_bottom_left.h5]...\n",
      ">>> Loading model [../../models/cnn/model-mnist-cnn-affine_both_stretch.h5]...\n",
      ">>> Loading model [../../models/cnn/model-mnist-cnn-cartoon_mean_type3.h5]...\n",
      ">>> Loaded 3 models.\n",
      ">>> Generating FGSM_eps0.2(EOT:ON) examples.\n",
      ">>> error rate: 0.4\n"
     ]
    },
    {
     "data": {
      "image/png": "[encoded data removed]",
      "text/plain": [
       "<Figure size 432x288 with 1 Axes>"
      ]
     },
     "metadata": {
      "needs_background": "light"
     },
     "output_type": "display_data"
    },
    {
     "data": {
      "image/png": "[encoded data removed]",
      "text/plain": [
       "<Figure size 432x288 with 1 Axes>"
      ]
     },
     "metadata": {
      "needs_background": "light"
     },
     "output_type": "display_data"
    },
    {
     "name": "stdout",
     "output_type": "stream",
     "text": [
      ">>> Generating PGD_eps0.3(EOT:ON) examples.\n",
      ">>> error rate: 0.4\n"
     ]
    },
    {
     "data": {
      "image/png": "[encoded data removed]",
      "text/plain": [
       "<Figure size 432x288 with 1 Axes>"
      ]
     },
     "metadata": {
      "needs_background": "light"
     },
     "output_type": "display_data"
    },
    {
     "data": {
      "image/png": "[encoded data removed]",
      "text/plain": [
       "<Figure size 432x288 with 1 Axes>"
      ]
     },
     "metadata": {
      "needs_background": "light"
     },
     "output_type": "display_data"
    }
   ],
   "source": [
    "# loading experiment configurations\n",
    "trans_configs = load_from_json(CONFIG_ROOT + \"demo/athena-mnist.json\")\n",
    "model_configs = load_from_json(CONFIG_ROOT + \"demo/model-mnist.json\")\n",
    "data_configs = load_from_json(CONFIG_ROOT + \"demo/data-mnist.json\")\n",
    "attack_configs = load_from_json(CONFIG_ROOT + \"demo/attack-zk-mnist.json\")\n",
    "\n",
    "# load weak defenses into a pool\n",
    "pool, _ = load_pool(trans_configs=trans_configs,\n",
    "                    model_configs=model_configs,\n",
    "                    active_list=True,\n",
    "                    wrap=True)\n",
    "# create an AVEP ensemble from the WD pool\n",
    "wds = list(pool.values())\n",
    "target = Ensemble(classifiers=wds, strategy=ENSEMBLE_STRATEGY.AVEP.value)\n",
    "\n",
    "# load the benign samples\n",
    "data_file = os.path.join(data_configs.get('dir'), data_configs.get('bs_file'))\n",
    "data_bs = np.load(data_file)\n",
    "# load the corresponding true labels\n",
    "label_file = os.path.join(data_configs.get('dir'), data_configs.get('label_file'))\n",
    "labels = np.load(label_file)\n",
    "\n",
    "# generate AEs\n",
    "# in this example, we generate AEs for 5 benign samples\n",
    "data_bs = data_bs[:5]\n",
    "labels = labels[:5]\n",
    "\n",
    "# Adaptive approach (with EOT)\n",
    "# Compute the loss expectation over specific distribution.\n",
    "# For an ensemble target, averaging the EOT of WDs'.\n",
    "# let save=True and specify an output folder to save the generated AEs\n",
    "generate_ae(model=target, data=data_bs, labels=labels, eot=True, attack_configs=attack_configs)"
   ]
  },
  {
   "cell_type": "code",
   "execution_count": null,
   "metadata": {},
   "outputs": [],
   "source": []
  }
 ],
 "metadata": {
  "kernelspec": {
   "display_name": "Python 3",
   "language": "python",
   "name": "python3"
  },
  "language_info": {
   "codemirror_mode": {
    "name": "ipython",
    "version": 3
   },
   "file_extension": ".py",
   "mimetype": "text/x-python",
   "name": "python",
   "nbconvert_exporter": "python",
   "pygments_lexer": "ipython3",
   "version": "3.7.3"
  }
 },
 "nbformat": 4,
 "nbformat_minor": 2
}
