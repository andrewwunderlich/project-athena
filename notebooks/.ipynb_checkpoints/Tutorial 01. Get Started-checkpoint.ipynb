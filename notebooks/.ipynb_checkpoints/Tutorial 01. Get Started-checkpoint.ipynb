{
 "cells": [
  {
   "cell_type": "markdown",
   "metadata": {},
   "source": [
    "# Installation\n",
    "**I encourage you to search for solutions on Google, StackOverflow, official user guides, and discuss on piazza whenever you encounter any installation problems.**\n",
    "\n",
    "## Install Anaconda\n",
    "Anaconda is a free and open-source distribution of the Python and R programming languages for scientific computing, that aims to simplify package management and deployment.\n",
    "\n",
    "Install Anaconda on your computer: https://docs.anaconda.com/anaconda/install/.\n",
    "\n",
    "## Create an environment\n",
    "Create an environment for Athena project with a python version of 3.6+ (I use Python 3.7). Activate your environment after it is created.\n",
    "\n",
    "Create an environment\n",
    "https://docs.conda.io/projects/conda/en/latest/user-guide/tasks/manage-environments.html#id1\n",
    "\n",
    "Activate an environment\n",
    "https://docs.conda.io/projects/conda/en/latest/user-guide/tasks/manage-environments.html#activating-an-environment\n",
    "\n",
    "e.g.,\n",
    "\n",
    "``conda create --name athena python=3.7``\n",
    "\n",
    "``conda activate athena``\n",
    "\n",
    "**The following steps must be done in your athena environment (the one you created)**\n",
    "## Install PyTorch\n",
    "Install PyTorch. You can find corresponding command line from [here](https://pytorch.org/get-started/locally/#mac-anaconda). \n",
    "\n",
    "e.g., install a cpu-only pytorch\n",
    "\n",
    "``conda install pytorch torchvision cpuonly -c pytorch``\n",
    "\n",
    "\n",
    "## Install libraries for Athena\n",
    "You can install required libraries from the [requirements.txt](https://github.com/csce585-mlsystems/project-athena/blob/master/requirements.txt).\n",
    "\n",
    "### Use conda\n",
    "``conda install --file requirements.txt``\n",
    "\n",
    "If above command does not work, install the libraries using pip command.\n",
    "### Use pip\n",
    "Please note that ``pip`` is not installed by default. However, pip is usually installed on a user level, once it is installed, you can use it in all anaconda environment.\n",
    "\n",
    "Install pip by\n",
    "\n",
    "``conda install pip``\n",
    "\n",
    "Install via requirements.txt\n",
    "\n",
    "``pip install -r requirements.txt``\n",
    "\n",
    "**If you failed to directly install packages/libraries from requirements.txt, a workaround solution is to install the listed packages one by one manually.** Here are the installations to individual packages/libraries:\n",
    "1. install [theconf](https://github.com/wbaek/theconf)\n",
    "2. install [pytorch-gradual-warmup](https://github.com/ildoonet/pytorch-gradual-warmup-lr)\n",
    "3. install [pystopwatch](https://github.com/ildoonet/pystopwatch2)\n",
    "4. install [hyperopt](https://github.com/hyperopt/hyperopt)\n",
    "5. install pretrainedmodels [pip](https://pypi.org/project/pretrainedmodels/), [conda](https://anaconda.org/conda-forge/pretrainedmodels)\n",
    "6. install tqdm [pip](https://pypi.org/project/tqdm/), [conda](https://anaconda.org/conda-forge/tqdm)\n",
    "7. install tensorboardX [pip](https://pypi.org/project/tensorboardX/), [conda](https://anaconda.org/conda-forge/tensorboardx)\n",
    "8. install sklearn [office](https://scikit-learn.org/stable/install.html), [pip](https://pypi.org/project/scikit-learn/), [conda](https://anaconda.org/anaconda/scikit-learn)\n",
    "9. install [ray](https://pypi.org/project/ray/)\n",
    "10. install matplotlib [office](https://matplotlib.org/users/installing.html), [pip](https://pypi.org/project/matplotlib/), [conda](https://anaconda.org/conda-forge/matplotlib)\n",
    "11. install psutil [pip](https://pypi.org/project/psutil/), [conda](https://anaconda.org/anaconda/psutil)\n",
    "12. install Requests [office](https://requests.readthedocs.io/en/master/user/install/), [pip](https://pypi.org/project/requests/)\n",
    "13. install [adversarial-robustness-toolbox (ART)](https://github.com/Trusted-AI/adversarial-robustness-toolbox/wiki/Get-Started#setup) \n",
    "14. install keras-resnet [pip](https://pypi.org/project/keras-resnet/), [conda](https://anaconda.org/conda-forge/keras-resnet)"
   ]
  },
  {
   "cell_type": "markdown",
   "metadata": {},
   "source": [
    "# Create Athena project\n",
    "## via Command line\n",
    "Clone a local copy from remote repository via command: https://docs.github.com/en/free-pro-team@latest/github/creating-cloning-and-archiving-repositories/cloning-a-repository.\n",
    "\n",
    "Mantain the project: https://docs.github.com/en/free-pro-team@latest/github\n",
    "\n",
    "## via IDE\n",
    "You can use any python IDE. Since I am using [PyCharm](https://www.jetbrains.com/pycharm/), I will use PyCharm as the example. I believe other IDEs should provide VCS tools, simply follow the official user guides to create a project and put it under control.\n",
    "\n",
    "1. [Download and install PyCharm](https://www.jetbrains.com/help/pycharm/installation-guide.html#silent)\n",
    "2. **Team leader please fork the project first.** Then team members can create a project from the team repo. [Create a project from git](https://www.jetbrains.com/pycharm/guide/tips/create-project-from-github/) Or, if you have already downloaded Athena, you can also [create a project from existing local source](https://www.jetbrains.com/help/phpstorm/creating-a-project-from-existing-local-sources.html#4fa83), then [put it under Git version control](https://www.jetbrains.com/help/pycharm/set-up-a-git-repository.html#put-existing-project-under-Git).\n",
    "3. [Configurate the inspector for you project](https://www.jetbrains.com/help/pycharm/configuring-python-interpreter.html#add-existing-interpreter). **Select the conda environment you created in the previous step**.\n"
   ]
  },
  {
   "cell_type": "markdown",
   "metadata": {},
   "source": [
    "# It is all set. Enjoy!\n",
    "\n",
    "# References\n",
    "1. [Anaconda](https://docs.anaconda.com/).\n",
    "2. [PyTorch]().\n",
    "3. [Git](https://try.github.io/) and [GitHub]().\n",
    "4. [PyCharm](https://www.jetbrains.com/help/pycharm/quick-start-guide.html)."
   ]
  }
 ],
 "metadata": {
  "kernelspec": {
   "display_name": "Python 3",
   "language": "python",
   "name": "python3"
  },
  "language_info": {
   "codemirror_mode": {
    "name": "ipython",
    "version": 3
   },
   "file_extension": ".py",
   "mimetype": "text/x-python",
   "name": "python",
   "nbconvert_exporter": "python",
   "pygments_lexer": "ipython3",
   "version": "3.8.5"
  }
 },
 "nbformat": 4,
 "nbformat_minor": 2
}
