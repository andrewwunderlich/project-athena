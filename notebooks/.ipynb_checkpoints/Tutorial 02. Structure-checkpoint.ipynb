{
 "cells": [
  {
   "cell_type": "markdown",
   "metadata": {},
   "source": [
    "# Structure of Athena Project\n",
    "\n",
    "1. ``data``, where the baseline adversarial examples locate. Check the readme.md in data for detailed descriptions.\n",
    "2. ``documnets``, where all the project documents (e.g., requirements) locate.\n",
    "3. ``models``, where the weak defenses in the vanilla version of Athena locate. Check the readme.md in data for detailed descriptions.\n",
    "4. ``notebooks``, where the jupyture notebooks or markdown notes locate.\n",
    "5. ``src``, where the source codes locate.\n",
    "    1. ``attacks`` --- scripts implemented adversarial attacks.\n",
    "    2. ``configs`` --- configuration files.\n",
    "    3. ``models`` --- scripts related to models. Currently, we have model wrappers and definition of the ensemble model here.\n",
    "    4. ``scripts`` --- scripts for experiments.\n",
    "    5. ``tutorials`` --- Athena tutorials.\n",
    "    5. ``utils`` --- utilities."
   ]
  },
  {
   "cell_type": "code",
   "execution_count": null,
   "metadata": {},
   "outputs": [],
   "source": []
  }
 ],
 "metadata": {
  "kernelspec": {
   "display_name": "Python 3",
   "language": "python",
   "name": "python3"
  },
  "language_info": {
   "codemirror_mode": {
    "name": "ipython",
    "version": 3
   },
   "file_extension": ".py",
   "mimetype": "text/x-python",
   "name": "python",
   "nbconvert_exporter": "python",
   "pygments_lexer": "ipython3",
   "version": "3.8.5"
  }
 },
 "nbformat": 4,
 "nbformat_minor": 2
}
